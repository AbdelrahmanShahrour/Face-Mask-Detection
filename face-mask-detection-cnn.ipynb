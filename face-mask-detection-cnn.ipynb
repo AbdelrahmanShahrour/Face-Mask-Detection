{
 "cells": [
  {
   "cell_type": "code",
   "execution_count": 14,
   "id": "6c3790fb",
   "metadata": {
    "_cell_guid": "b1076dfc-b9ad-4769-8c92-a6c4dae69d19",
    "_uuid": "8f2839f25d086af736a60e9eeb907d3b93b6e0e5",
    "execution": {
     "iopub.execute_input": "2022-10-10T03:18:50.701961Z",
     "iopub.status.busy": "2022-10-10T03:18:50.700942Z",
     "iopub.status.idle": "2022-10-10T03:18:58.737619Z",
     "shell.execute_reply": "2022-10-10T03:18:58.736607Z"
    },
    "papermill": {
     "duration": 8.055016,
     "end_time": "2022-10-10T03:18:58.740277",
     "exception": false,
     "start_time": "2022-10-10T03:18:50.685261",
     "status": "completed"
    },
    "scrolled": false,
    "tags": []
   },
   "outputs": [],
   "source": [
    "# for numbers\n",
    "import numpy as np\n",
    "import pandas as pd\n",
    "\n",
    "# for visualization\n",
    "import matplotlib.pyplot as plt\n",
    "import seaborn as sns \n",
    "\n",
    "import os\n",
    "# parsing xml\n",
    "import xml.etree.ElementTree as ET\n",
    "# for search files using patterns\n",
    "import glob\n",
    "\n",
    "# Python Imaging Library\n",
    "from PIL import Image\n",
    "\n",
    "import cv2\n",
    "\n",
    "# for training and preprocessing\n",
    "from sklearn.model_selection import train_test_split\n",
    "from keras.models import Sequential\n",
    "from keras.layers import Conv2D, MaxPooling2D, Flatten, Dense, Dropout\n",
    "from keras.preprocessing.image import ImageDataGenerator\n",
    "from tensorflow.keras.callbacks import EarlyStopping\n",
    "from tensorflow.keras.callbacks import ReduceLROnPlateau\n",
    "from sklearn.metrics import confusion_matrix, classification_report\n",
    "from sklearn.metrics import precision_score, recall_score, accuracy_score,f1_score, classification_report"
   ]
  },
  {
   "cell_type": "code",
   "execution_count": 3,
   "id": "14030c7b",
   "metadata": {},
   "outputs": [],
   "source": [
    "# get the path\n",
    "path = os.getcwd()"
   ]
  },
  {
   "cell_type": "code",
   "execution_count": 9,
   "id": "0cab4fc1",
   "metadata": {},
   "outputs": [],
   "source": [
    "# the paths\n",
    "input_data_path = 'Data/images'\n",
    "annotations_path = \"./Data/annotations\"\n",
    "images = [*os.listdir(f'{path}/Data/images')]\n",
    "output_data_path =  '.'"
   ]
  },
  {
   "cell_type": "code",
   "execution_count": 12,
   "id": "a54012d1",
   "metadata": {
    "execution": {
     "iopub.execute_input": "2022-10-10T03:18:58.759184Z",
     "iopub.status.busy": "2022-10-10T03:18:58.758254Z",
     "iopub.status.idle": "2022-10-10T03:18:58.770273Z",
     "shell.execute_reply": "2022-10-10T03:18:58.769369Z"
    },
    "papermill": {
     "duration": 0.023967,
     "end_time": "2022-10-10T03:18:58.772716",
     "exception": false,
     "start_time": "2022-10-10T03:18:58.748749",
     "status": "completed"
    },
    "tags": []
   },
   "outputs": [],
   "source": [
    "def parse_annotation(path:str) -> list:\n",
    "    tree = ET.parse(path)\n",
    "    root = tree.getroot()\n",
    "    constants = {}\n",
    "    objects = [child for child in root if child.tag == 'object']\n",
    "    for element in tree.iter():\n",
    "        if element.tag == 'filename':\n",
    "            constants['file'] = element.text[0:-4]\n",
    "        if element.tag == 'size':\n",
    "            for dim in list(element):\n",
    "                if dim.tag == 'width':\n",
    "                    constants['width'] = int(dim.text)\n",
    "                if dim.tag == 'height':\n",
    "                    constants['height'] = int(dim.text)\n",
    "                if dim.tag == 'depth':\n",
    "                    constants['depth'] = int(dim.text)\n",
    "    object_params = [parse_annotation_object(obj) for obj in objects]\n",
    "    #print(constants)\n",
    "    full_result = [merge(constants,ob) for ob in object_params]\n",
    "    return full_result\n",
    "\n",
    "\n",
    "def parse_annotation_object(annotation_object:list) -> dict:\n",
    "    params = {}\n",
    "    for param in list(annotation_object):\n",
    "        if param.tag == 'name':\n",
    "            params['name'] = param.text\n",
    "        if param.tag == 'bndbox':\n",
    "            for coord in list(param):\n",
    "                if coord.tag == 'xmin':\n",
    "                    params['xmin'] = int(coord.text)              \n",
    "                if coord.tag == 'ymin':\n",
    "                    params['ymin'] = int(coord.text)\n",
    "                if coord.tag == 'xmax':\n",
    "                    params['xmax'] = int(coord.text)\n",
    "                if coord.tag == 'ymax':\n",
    "                    params['ymax'] = int(coord.text)\n",
    "            \n",
    "    return params       \n",
    " \n",
    "def merge(dict1, dict2):\n",
    "    res = {**dict1, **dict2}\n",
    "    return res"
   ]
  },
  {
   "cell_type": "code",
   "execution_count": 15,
   "id": "8f803ab7",
   "metadata": {
    "execution": {
     "iopub.execute_input": "2022-10-10T03:18:58.791087Z",
     "iopub.status.busy": "2022-10-10T03:18:58.790449Z",
     "iopub.status.idle": "2022-10-10T03:19:03.053999Z",
     "shell.execute_reply": "2022-10-10T03:19:03.052862Z"
    },
    "papermill": {
     "duration": 4.275349,
     "end_time": "2022-10-10T03:19:03.056200",
     "exception": false,
     "start_time": "2022-10-10T03:18:58.780851",
     "status": "completed"
    },
    "tags": []
   },
   "outputs": [
    {
     "data": {
      "text/plain": [
       "(4072, 9)"
      ]
     },
     "execution_count": 15,
     "metadata": {},
     "output_type": "execute_result"
    }
   ],
   "source": [
    "# create data\n",
    "dataset = [parse_annotation(anno) for anno in glob.glob(annotations_path+\"/*.xml\") ]\n",
    "full_dataset = sum(dataset, [])\n",
    "# create dataframe\n",
    "df = pd.DataFrame(full_dataset)\n",
    "df.shape"
   ]
  },
  {
   "cell_type": "code",
   "execution_count": 16,
   "id": "951182c0",
   "metadata": {
    "execution": {
     "iopub.execute_input": "2022-10-10T03:19:03.074671Z",
     "iopub.status.busy": "2022-10-10T03:19:03.074242Z",
     "iopub.status.idle": "2022-10-10T03:19:03.094351Z",
     "shell.execute_reply": "2022-10-10T03:19:03.093209Z"
    },
    "papermill": {
     "duration": 0.031969,
     "end_time": "2022-10-10T03:19:03.096566",
     "exception": false,
     "start_time": "2022-10-10T03:19:03.064597",
     "status": "completed"
    },
    "tags": []
   },
   "outputs": [
    {
     "data": {
      "text/html": [
       "<div>\n",
       "<style scoped>\n",
       "    .dataframe tbody tr th:only-of-type {\n",
       "        vertical-align: middle;\n",
       "    }\n",
       "\n",
       "    .dataframe tbody tr th {\n",
       "        vertical-align: top;\n",
       "    }\n",
       "\n",
       "    .dataframe thead th {\n",
       "        text-align: right;\n",
       "    }\n",
       "</style>\n",
       "<table border=\"1\" class=\"dataframe\">\n",
       "  <thead>\n",
       "    <tr style=\"text-align: right;\">\n",
       "      <th></th>\n",
       "      <th>file</th>\n",
       "      <th>width</th>\n",
       "      <th>height</th>\n",
       "      <th>depth</th>\n",
       "      <th>name</th>\n",
       "      <th>xmin</th>\n",
       "      <th>ymin</th>\n",
       "      <th>xmax</th>\n",
       "      <th>ymax</th>\n",
       "    </tr>\n",
       "  </thead>\n",
       "  <tbody>\n",
       "    <tr>\n",
       "      <th>0</th>\n",
       "      <td>maksssksksss281</td>\n",
       "      <td>301</td>\n",
       "      <td>400</td>\n",
       "      <td>3</td>\n",
       "      <td>with_mask</td>\n",
       "      <td>98</td>\n",
       "      <td>204</td>\n",
       "      <td>195</td>\n",
       "      <td>329</td>\n",
       "    </tr>\n",
       "    <tr>\n",
       "      <th>1</th>\n",
       "      <td>maksssksksss375</td>\n",
       "      <td>400</td>\n",
       "      <td>310</td>\n",
       "      <td>3</td>\n",
       "      <td>without_mask</td>\n",
       "      <td>259</td>\n",
       "      <td>76</td>\n",
       "      <td>277</td>\n",
       "      <td>94</td>\n",
       "    </tr>\n",
       "    <tr>\n",
       "      <th>2</th>\n",
       "      <td>maksssksksss375</td>\n",
       "      <td>400</td>\n",
       "      <td>310</td>\n",
       "      <td>3</td>\n",
       "      <td>without_mask</td>\n",
       "      <td>273</td>\n",
       "      <td>192</td>\n",
       "      <td>289</td>\n",
       "      <td>210</td>\n",
       "    </tr>\n",
       "    <tr>\n",
       "      <th>3</th>\n",
       "      <td>maksssksksss279</td>\n",
       "      <td>400</td>\n",
       "      <td>266</td>\n",
       "      <td>3</td>\n",
       "      <td>with_mask</td>\n",
       "      <td>290</td>\n",
       "      <td>80</td>\n",
       "      <td>341</td>\n",
       "      <td>135</td>\n",
       "    </tr>\n",
       "    <tr>\n",
       "      <th>4</th>\n",
       "      <td>maksssksksss279</td>\n",
       "      <td>400</td>\n",
       "      <td>266</td>\n",
       "      <td>3</td>\n",
       "      <td>without_mask</td>\n",
       "      <td>48</td>\n",
       "      <td>237</td>\n",
       "      <td>79</td>\n",
       "      <td>266</td>\n",
       "    </tr>\n",
       "  </tbody>\n",
       "</table>\n",
       "</div>"
      ],
      "text/plain": [
       "              file  width  height  depth          name  xmin  ymin  xmax  ymax\n",
       "0  maksssksksss281    301     400      3     with_mask    98   204   195   329\n",
       "1  maksssksksss375    400     310      3  without_mask   259    76   277    94\n",
       "2  maksssksksss375    400     310      3  without_mask   273   192   289   210\n",
       "3  maksssksksss279    400     266      3     with_mask   290    80   341   135\n",
       "4  maksssksksss279    400     266      3  without_mask    48   237    79   266"
      ]
     },
     "execution_count": 16,
     "metadata": {},
     "output_type": "execute_result"
    }
   ],
   "source": [
    "# show head of dataframe\n",
    "df.head()"
   ]
  },
  {
   "cell_type": "code",
   "execution_count": 17,
   "id": "104feaba",
   "metadata": {
    "execution": {
     "iopub.execute_input": "2022-10-10T03:19:03.114796Z",
     "iopub.status.busy": "2022-10-10T03:19:03.114386Z",
     "iopub.status.idle": "2022-10-10T03:19:03.127174Z",
     "shell.execute_reply": "2022-10-10T03:19:03.126135Z"
    },
    "papermill": {
     "duration": 0.024565,
     "end_time": "2022-10-10T03:19:03.129484",
     "exception": false,
     "start_time": "2022-10-10T03:19:03.104919",
     "status": "completed"
    },
    "tags": []
   },
   "outputs": [],
   "source": [
    "# split and select\n",
    "final_test_image = 'maksssksksss0'\n",
    "df_final_test = df.loc[df[\"file\"] == final_test_image]\n",
    "images.remove(f'{final_test_image}.png')\n",
    "df = df.loc[df[\"file\"] != final_test_image]"
   ]
  },
  {
   "cell_type": "code",
   "execution_count": 18,
   "id": "52ade524",
   "metadata": {
    "execution": {
     "iopub.execute_input": "2022-10-10T03:19:03.149796Z",
     "iopub.status.busy": "2022-10-10T03:19:03.149396Z",
     "iopub.status.idle": "2022-10-10T03:19:03.167457Z",
     "shell.execute_reply": "2022-10-10T03:19:03.166242Z"
    },
    "papermill": {
     "duration": 0.030106,
     "end_time": "2022-10-10T03:19:03.169756",
     "exception": false,
     "start_time": "2022-10-10T03:19:03.139650",
     "status": "completed"
    },
    "tags": []
   },
   "outputs": [
    {
     "data": {
      "text/html": [
       "<div>\n",
       "<style scoped>\n",
       "    .dataframe tbody tr th:only-of-type {\n",
       "        vertical-align: middle;\n",
       "    }\n",
       "\n",
       "    .dataframe tbody tr th {\n",
       "        vertical-align: top;\n",
       "    }\n",
       "\n",
       "    .dataframe thead th {\n",
       "        text-align: right;\n",
       "    }\n",
       "</style>\n",
       "<table border=\"1\" class=\"dataframe\">\n",
       "  <thead>\n",
       "    <tr style=\"text-align: right;\">\n",
       "      <th></th>\n",
       "      <th>file</th>\n",
       "      <th>width</th>\n",
       "      <th>height</th>\n",
       "      <th>depth</th>\n",
       "      <th>name</th>\n",
       "      <th>xmin</th>\n",
       "      <th>ymin</th>\n",
       "      <th>xmax</th>\n",
       "      <th>ymax</th>\n",
       "    </tr>\n",
       "  </thead>\n",
       "  <tbody>\n",
       "    <tr>\n",
       "      <th>0</th>\n",
       "      <td>maksssksksss281</td>\n",
       "      <td>301</td>\n",
       "      <td>400</td>\n",
       "      <td>3</td>\n",
       "      <td>with_mask</td>\n",
       "      <td>98</td>\n",
       "      <td>204</td>\n",
       "      <td>195</td>\n",
       "      <td>329</td>\n",
       "    </tr>\n",
       "    <tr>\n",
       "      <th>1</th>\n",
       "      <td>maksssksksss375</td>\n",
       "      <td>400</td>\n",
       "      <td>310</td>\n",
       "      <td>3</td>\n",
       "      <td>without_mask</td>\n",
       "      <td>259</td>\n",
       "      <td>76</td>\n",
       "      <td>277</td>\n",
       "      <td>94</td>\n",
       "    </tr>\n",
       "    <tr>\n",
       "      <th>2</th>\n",
       "      <td>maksssksksss375</td>\n",
       "      <td>400</td>\n",
       "      <td>310</td>\n",
       "      <td>3</td>\n",
       "      <td>without_mask</td>\n",
       "      <td>273</td>\n",
       "      <td>192</td>\n",
       "      <td>289</td>\n",
       "      <td>210</td>\n",
       "    </tr>\n",
       "    <tr>\n",
       "      <th>3</th>\n",
       "      <td>maksssksksss279</td>\n",
       "      <td>400</td>\n",
       "      <td>266</td>\n",
       "      <td>3</td>\n",
       "      <td>with_mask</td>\n",
       "      <td>290</td>\n",
       "      <td>80</td>\n",
       "      <td>341</td>\n",
       "      <td>135</td>\n",
       "    </tr>\n",
       "    <tr>\n",
       "      <th>4</th>\n",
       "      <td>maksssksksss279</td>\n",
       "      <td>400</td>\n",
       "      <td>266</td>\n",
       "      <td>3</td>\n",
       "      <td>without_mask</td>\n",
       "      <td>48</td>\n",
       "      <td>237</td>\n",
       "      <td>79</td>\n",
       "      <td>266</td>\n",
       "    </tr>\n",
       "    <tr>\n",
       "      <th>...</th>\n",
       "      <td>...</td>\n",
       "      <td>...</td>\n",
       "      <td>...</td>\n",
       "      <td>...</td>\n",
       "      <td>...</td>\n",
       "      <td>...</td>\n",
       "      <td>...</td>\n",
       "      <td>...</td>\n",
       "      <td>...</td>\n",
       "    </tr>\n",
       "    <tr>\n",
       "      <th>4067</th>\n",
       "      <td>maksssksksss445</td>\n",
       "      <td>400</td>\n",
       "      <td>267</td>\n",
       "      <td>3</td>\n",
       "      <td>with_mask</td>\n",
       "      <td>240</td>\n",
       "      <td>68</td>\n",
       "      <td>264</td>\n",
       "      <td>96</td>\n",
       "    </tr>\n",
       "    <tr>\n",
       "      <th>4068</th>\n",
       "      <td>maksssksksss445</td>\n",
       "      <td>400</td>\n",
       "      <td>267</td>\n",
       "      <td>3</td>\n",
       "      <td>with_mask</td>\n",
       "      <td>267</td>\n",
       "      <td>62</td>\n",
       "      <td>298</td>\n",
       "      <td>97</td>\n",
       "    </tr>\n",
       "    <tr>\n",
       "      <th>4069</th>\n",
       "      <td>maksssksksss445</td>\n",
       "      <td>400</td>\n",
       "      <td>267</td>\n",
       "      <td>3</td>\n",
       "      <td>with_mask</td>\n",
       "      <td>332</td>\n",
       "      <td>34</td>\n",
       "      <td>350</td>\n",
       "      <td>61</td>\n",
       "    </tr>\n",
       "    <tr>\n",
       "      <th>4070</th>\n",
       "      <td>maksssksksss445</td>\n",
       "      <td>400</td>\n",
       "      <td>267</td>\n",
       "      <td>3</td>\n",
       "      <td>with_mask</td>\n",
       "      <td>377</td>\n",
       "      <td>39</td>\n",
       "      <td>396</td>\n",
       "      <td>62</td>\n",
       "    </tr>\n",
       "    <tr>\n",
       "      <th>4071</th>\n",
       "      <td>maksssksksss445</td>\n",
       "      <td>400</td>\n",
       "      <td>267</td>\n",
       "      <td>3</td>\n",
       "      <td>mask_weared_incorrect</td>\n",
       "      <td>199</td>\n",
       "      <td>237</td>\n",
       "      <td>230</td>\n",
       "      <td>266</td>\n",
       "    </tr>\n",
       "  </tbody>\n",
       "</table>\n",
       "<p>4069 rows × 9 columns</p>\n",
       "</div>"
      ],
      "text/plain": [
       "                 file  width  height  depth                   name  xmin  \\\n",
       "0     maksssksksss281    301     400      3              with_mask    98   \n",
       "1     maksssksksss375    400     310      3           without_mask   259   \n",
       "2     maksssksksss375    400     310      3           without_mask   273   \n",
       "3     maksssksksss279    400     266      3              with_mask   290   \n",
       "4     maksssksksss279    400     266      3           without_mask    48   \n",
       "...               ...    ...     ...    ...                    ...   ...   \n",
       "4067  maksssksksss445    400     267      3              with_mask   240   \n",
       "4068  maksssksksss445    400     267      3              with_mask   267   \n",
       "4069  maksssksksss445    400     267      3              with_mask   332   \n",
       "4070  maksssksksss445    400     267      3              with_mask   377   \n",
       "4071  maksssksksss445    400     267      3  mask_weared_incorrect   199   \n",
       "\n",
       "      ymin  xmax  ymax  \n",
       "0      204   195   329  \n",
       "1       76   277    94  \n",
       "2      192   289   210  \n",
       "3       80   341   135  \n",
       "4      237    79   266  \n",
       "...    ...   ...   ...  \n",
       "4067    68   264    96  \n",
       "4068    62   298    97  \n",
       "4069    34   350    61  \n",
       "4070    39   396    62  \n",
       "4071   237   230   266  \n",
       "\n",
       "[4069 rows x 9 columns]"
      ]
     },
     "execution_count": 18,
     "metadata": {},
     "output_type": "execute_result"
    }
   ],
   "source": [
    "df"
   ]
  },
  {
   "cell_type": "code",
   "execution_count": 19,
   "id": "961f970e",
   "metadata": {
    "execution": {
     "iopub.execute_input": "2022-10-10T03:19:03.189140Z",
     "iopub.status.busy": "2022-10-10T03:19:03.188439Z",
     "iopub.status.idle": "2022-10-10T03:19:03.201572Z",
     "shell.execute_reply": "2022-10-10T03:19:03.200554Z"
    },
    "papermill": {
     "duration": 0.02515,
     "end_time": "2022-10-10T03:19:03.203769",
     "exception": false,
     "start_time": "2022-10-10T03:19:03.178619",
     "status": "completed"
    },
    "tags": []
   },
   "outputs": [
    {
     "data": {
      "text/plain": [
       "with_mask                3231\n",
       "without_mask              715\n",
       "mask_weared_incorrect     123\n",
       "Name: name, dtype: int64"
      ]
     },
     "execution_count": 19,
     "metadata": {},
     "output_type": "execute_result"
    }
   ],
   "source": [
    "# show counts\n",
    "df[\"name\"].value_counts()"
   ]
  },
  {
   "cell_type": "code",
   "execution_count": 20,
   "id": "2ce6fc00",
   "metadata": {
    "execution": {
     "iopub.execute_input": "2022-10-10T03:19:03.223978Z",
     "iopub.status.busy": "2022-10-10T03:19:03.223574Z",
     "iopub.status.idle": "2022-10-10T03:19:03.505588Z",
     "shell.execute_reply": "2022-10-10T03:19:03.504367Z"
    },
    "papermill": {
     "duration": 0.295016,
     "end_time": "2022-10-10T03:19:03.508076",
     "exception": false,
     "start_time": "2022-10-10T03:19:03.213060",
     "status": "completed"
    },
    "tags": []
   },
   "outputs": [
    {
     "data": {
      "text/plain": [
       "Text(0, 0.5, 'name')"
      ]
     },
     "execution_count": 20,
     "metadata": {},
     "output_type": "execute_result"
    },
    {
     "data": {
      "image/png": "[encoded data removed]",
      "text/plain": [
       "<Figure size 640x480 with 1 Axes>"
      ]
     },
     "metadata": {},
     "output_type": "display_data"
    }
   ],
   "source": [
    "# plot counts \n",
    "df[\"name\"].value_counts().plot(kind='barh')\n",
    "plt.xlabel('Count', fontsize = 10, fontweight = 'bold')\n",
    "plt.ylabel('name', fontsize = 10, fontweight = 'bold')"
   ]
  },
  {
   "cell_type": "code",
   "execution_count": 22,
   "id": "ce1e462b",
   "metadata": {
    "execution": {
     "iopub.execute_input": "2022-10-10T03:19:03.528267Z",
     "iopub.status.busy": "2022-10-10T03:19:03.527843Z",
     "iopub.status.idle": "2022-10-10T03:19:03.536738Z",
     "shell.execute_reply": "2022-10-10T03:19:03.535478Z"
    },
    "papermill": {
     "duration": 0.021922,
     "end_time": "2022-10-10T03:19:03.539103",
     "exception": false,
     "start_time": "2022-10-10T03:19:03.517181",
     "status": "completed"
    },
    "tags": []
   },
   "outputs": [],
   "source": [
    "# create files in output file\n",
    "labels = df['name'].unique()\n",
    "directory = ['train', 'test', 'val']\n",
    "output_data_path =  './output'\n",
    "\n",
    "import os\n",
    "for label in labels:\n",
    "    for d in directory:\n",
    "        path = os.path.join(output_data_path, d, label)\n",
    "        if not os.path.exists(path):\n",
    "            os.makedirs(path)"
   ]
  },
  {
   "cell_type": "code",
   "execution_count": 23,
   "id": "bc4f7e2d",
   "metadata": {
    "execution": {
     "iopub.execute_input": "2022-10-10T03:19:03.560102Z",
     "iopub.status.busy": "2022-10-10T03:19:03.559297Z",
     "iopub.status.idle": "2022-10-10T03:19:03.565670Z",
     "shell.execute_reply": "2022-10-10T03:19:03.564659Z"
    },
    "papermill": {
     "duration": 0.019514,
     "end_time": "2022-10-10T03:19:03.567811",
     "exception": false,
     "start_time": "2022-10-10T03:19:03.548297",
     "status": "completed"
    },
    "tags": []
   },
   "outputs": [],
   "source": [
    "# crop face from image\n",
    "def crop_img(image_path:str, x_min:int, y_min:int, x_max:int, y_max:int):\n",
    "    x_shift = (x_max - x_min) * 0.1\n",
    "    y_shift = (y_max - y_min) * 0.1\n",
    "    img = Image.open(image_path)\n",
    "    cropped = img.crop((x_min - x_shift, y_min - y_shift, x_max + x_shift, y_max + y_shift))\n",
    "    return cropped"
   ]
  },
  {
   "cell_type": "code",
   "execution_count": 24,
   "id": "347b0792",
   "metadata": {
    "execution": {
     "iopub.execute_input": "2022-10-10T03:19:03.588536Z",
     "iopub.status.busy": "2022-10-10T03:19:03.587850Z",
     "iopub.status.idle": "2022-10-10T03:19:03.594120Z",
     "shell.execute_reply": "2022-10-10T03:19:03.593378Z"
    },
    "papermill": {
     "duration": 0.019117,
     "end_time": "2022-10-10T03:19:03.596371",
     "exception": false,
     "start_time": "2022-10-10T03:19:03.577254",
     "status": "completed"
    },
    "tags": []
   },
   "outputs": [],
   "source": [
    "# extract faces from image\n",
    "def extract_faces(image_name:str, image_info:pd.DataFrame) -> list:\n",
    "    faces = []\n",
    "    df_one_img = image_info[image_info['file'] == image_name[:-4]][['xmin', 'ymin', 'xmax', 'ymax', 'name']]\n",
    "    for row_num in range(len(df_one_img)):\n",
    "        x_min, y_min, x_max, y_max, label = df_one_img.iloc[row_num] \n",
    "        image_path = os.path.join(input_data_path, image_name)\n",
    "        faces.append((crop_img(image_path, x_min, y_min, x_max, y_max), label,f'{image_name[:-4]}_{(x_min, y_min)}'))\n",
    "    return faces"
   ]
  },
  {
   "cell_type": "code",
   "execution_count": 25,
   "id": "47171d5e",
   "metadata": {
    "execution": {
     "iopub.execute_input": "2022-10-10T03:19:03.616518Z",
     "iopub.status.busy": "2022-10-10T03:19:03.616095Z",
     "iopub.status.idle": "2022-10-10T03:20:21.656712Z",
     "shell.execute_reply": "2022-10-10T03:20:21.655621Z"
    },
    "papermill": {
     "duration": 78.053916,
     "end_time": "2022-10-10T03:20:21.659564",
     "exception": false,
     "start_time": "2022-10-10T03:19:03.605648",
     "status": "completed"
    },
    "tags": []
   },
   "outputs": [],
   "source": [
    "# crop face\n",
    "cropped_faces = [extract_faces(img, df) for img in images]\n",
    "flat_cropped_faces = sum(cropped_faces, [])"
   ]
  },
  {
   "cell_type": "code",
   "execution_count": 26,
   "id": "8c0a228c",
   "metadata": {
    "execution": {
     "iopub.execute_input": "2022-10-10T03:20:21.719939Z",
     "iopub.status.busy": "2022-10-10T03:20:21.719277Z",
     "iopub.status.idle": "2022-10-10T03:20:21.728681Z",
     "shell.execute_reply": "2022-10-10T03:20:21.727641Z"
    },
    "papermill": {
     "duration": 0.023214,
     "end_time": "2022-10-10T03:20:21.731426",
     "exception": false,
     "start_time": "2022-10-10T03:20:21.708212",
     "status": "completed"
    },
    "tags": []
   },
   "outputs": [],
   "source": [
    "# lable == with_mask\n",
    "with_mask = [(img, image_name) for img, label,image_name in flat_cropped_faces if label == \"with_mask\"]\n",
    "# lable == mask_weared_incorrect\n",
    "mask_weared_incorrect = [(img, image_name) for img, label,image_name in flat_cropped_faces if label == \"mask_weared_incorrect\"]\n",
    "# lable == without_mask\n",
    "without_mask = [(img, image_name) for img, label,image_name in flat_cropped_faces if label == \"without_mask\"]"
   ]
  },
  {
   "cell_type": "code",
   "execution_count": 27,
   "id": "20d2680e",
   "metadata": {
    "execution": {
     "iopub.execute_input": "2022-10-10T03:20:21.751972Z",
     "iopub.status.busy": "2022-10-10T03:20:21.751560Z",
     "iopub.status.idle": "2022-10-10T03:20:21.757850Z",
     "shell.execute_reply": "2022-10-10T03:20:21.756706Z"
    },
    "papermill": {
     "duration": 0.019504,
     "end_time": "2022-10-10T03:20:21.760395",
     "exception": false,
     "start_time": "2022-10-10T03:20:21.740891",
     "status": "completed"
    },
    "tags": []
   },
   "outputs": [
    {
     "name": "stdout",
     "output_type": "stream",
     "text": [
      "3231\n",
      "715\n",
      "123\n",
      "4069\n"
     ]
    }
   ],
   "source": [
    "print(len(with_mask))\n",
    "print(len(without_mask))\n",
    "print(len(mask_weared_incorrect))\n",
    "print(len(with_mask) + len(without_mask) + len(mask_weared_incorrect))"
   ]
  },
  {
   "cell_type": "code",
   "execution_count": 28,
   "id": "1ac88e4e",
   "metadata": {
    "execution": {
     "iopub.execute_input": "2022-10-10T03:20:21.781107Z",
     "iopub.status.busy": "2022-10-10T03:20:21.780685Z",
     "iopub.status.idle": "2022-10-10T03:20:21.791128Z",
     "shell.execute_reply": "2022-10-10T03:20:21.790331Z"
    },
    "papermill": {
     "duration": 0.023354,
     "end_time": "2022-10-10T03:20:21.793228",
     "exception": false,
     "start_time": "2022-10-10T03:20:21.769874",
     "status": "completed"
    },
    "tags": []
   },
   "outputs": [],
   "source": [
    "# train test split -> with_mask\n",
    "train_with_mask, test_with_mask = train_test_split(with_mask, test_size=0.20, random_state=42)\n",
    "test_with_mask, val_with_mask = train_test_split(test_with_mask, test_size=0.7, random_state=42)\n",
    "# train test split -> mask_weared_incorrect\n",
    "train_mask_weared_incorrect, test_mask_weared_incorrect = train_test_split(mask_weared_incorrect, test_size=0.20, random_state=42)\n",
    "test_mask_weared_incorrect, val_mask_weared_incorrect = train_test_split(test_mask_weared_incorrect, test_size=0.7, random_state=42)\n",
    "# train test split -> without_mask\n",
    "train_without_mask, test_without_mask = train_test_split(without_mask, test_size=0.20, random_state=42)\n",
    "test_without_mask, val_without_mask = train_test_split(test_without_mask, test_size=0.7, random_state=42)"
   ]
  },
  {
   "cell_type": "code",
   "execution_count": 29,
   "id": "f48eccff",
   "metadata": {
    "execution": {
     "iopub.execute_input": "2022-10-10T03:20:21.813924Z",
     "iopub.status.busy": "2022-10-10T03:20:21.813347Z",
     "iopub.status.idle": "2022-10-10T03:20:21.818191Z",
     "shell.execute_reply": "2022-10-10T03:20:21.817369Z"
    },
    "papermill": {
     "duration": 0.018105,
     "end_time": "2022-10-10T03:20:21.820708",
     "exception": false,
     "start_time": "2022-10-10T03:20:21.802603",
     "status": "completed"
    },
    "tags": []
   },
   "outputs": [],
   "source": [
    "def save_image(image:str, image_name:str, output_data_path:str,  dataset_type:str, label:str):\n",
    "    output_path = os.path.join(output_data_path, dataset_type, label ,f'{image_name}.png')\n",
    "    image.save(output_path)  "
   ]
  },
  {
   "cell_type": "code",
   "execution_count": 30,
   "id": "26565cc8",
   "metadata": {
    "execution": {
     "iopub.execute_input": "2022-10-10T03:20:21.842039Z",
     "iopub.status.busy": "2022-10-10T03:20:21.841611Z",
     "iopub.status.idle": "2022-10-10T03:20:29.918057Z",
     "shell.execute_reply": "2022-10-10T03:20:29.916883Z"
    },
    "papermill": {
     "duration": 8.090209,
     "end_time": "2022-10-10T03:20:29.920820",
     "exception": false,
     "start_time": "2022-10-10T03:20:21.830611",
     "status": "completed"
    },
    "tags": []
   },
   "outputs": [],
   "source": [
    "for image, image_name in train_with_mask:\n",
    "    save_image(image, image_name, output_data_path, 'train', 'with_mask')\n",
    "\n",
    "for image, image_name in train_mask_weared_incorrect:\n",
    "    save_image(image, image_name, output_data_path, 'train', 'mask_weared_incorrect')\n",
    "\n",
    "for image, image_name in train_without_mask:\n",
    "    save_image(image, image_name, output_data_path, 'train', 'without_mask')\n",
    "\n",
    "###############################\n",
    "\n",
    "for image, image_name in test_with_mask:\n",
    "    save_image(image, image_name, output_data_path, 'test', 'with_mask')\n",
    "\n",
    "for image, image_name in test_mask_weared_incorrect:\n",
    "    save_image(image, image_name, output_data_path, 'test', 'mask_weared_incorrect')\n",
    "\n",
    "for image, image_name in test_without_mask:\n",
    "    save_image(image, image_name, output_data_path, 'test', 'without_mask')\n",
    "     \n",
    "###############################\n",
    "   \n",
    "for image, image_name in val_with_mask:\n",
    "    save_image(image, image_name, output_data_path, 'val', 'with_mask')\n",
    "\n",
    "for image, image_name in val_without_mask:\n",
    "    save_image(image, image_name, output_data_path, 'val', 'without_mask')\n",
    "\n",
    "for image, image_name in val_mask_weared_incorrect:\n",
    "    save_image(image, image_name, output_data_path, 'val', 'mask_weared_incorrect')"
   ]
  },
  {
   "cell_type": "code",
   "execution_count": 31,
   "id": "b152e405",
   "metadata": {
    "execution": {
     "iopub.execute_input": "2022-10-10T03:20:29.941365Z",
     "iopub.status.busy": "2022-10-10T03:20:29.940928Z",
     "iopub.status.idle": "2022-10-10T03:20:30.131502Z",
     "shell.execute_reply": "2022-10-10T03:20:30.130306Z"
    },
    "papermill": {
     "duration": 0.204775,
     "end_time": "2022-10-10T03:20:30.135211",
     "exception": false,
     "start_time": "2022-10-10T03:20:29.930436",
     "status": "completed"
    },
    "tags": []
   },
   "outputs": [
    {
     "name": "stdout",
     "output_type": "stream",
     "text": [
      "Model: \"sequential\"\n",
      "_________________________________________________________________\n",
      " Layer (type)                Output Shape              Param #   \n",
      "=================================================================\n",
      " conv2d (Conv2D)             (None, 35, 35, 16)        448       \n",
      "                                                                 \n",
      " max_pooling2d (MaxPooling2D  (None, 17, 17, 16)       0         \n",
      " )                                                               \n",
      "                                                                 \n",
      " conv2d_1 (Conv2D)           (None, 17, 17, 32)        4640      \n",
      "                                                                 \n",
      " max_pooling2d_1 (MaxPooling  (None, 8, 8, 32)         0         \n",
      " 2D)                                                             \n",
      "                                                                 \n",
      " conv2d_2 (Conv2D)           (None, 8, 8, 64)          18496     \n",
      "                                                                 \n",
      " max_pooling2d_2 (MaxPooling  (None, 4, 4, 64)         0         \n",
      " 2D)                                                             \n",
      "                                                                 \n",
      " dropout (Dropout)           (None, 4, 4, 64)          0         \n",
      "                                                                 \n",
      " flatten (Flatten)           (None, 1024)              0         \n",
      "                                                                 \n",
      " dense (Dense)               (None, 500)               512500    \n",
      "                                                                 \n",
      " dropout_1 (Dropout)         (None, 500)               0         \n",
      "                                                                 \n",
      " dense_1 (Dense)             (None, 3)                 1503      \n",
      "                                                                 \n",
      "=================================================================\n",
      "Total params: 537,587\n",
      "Trainable params: 537,587\n",
      "Non-trainable params: 0\n",
      "_________________________________________________________________\n"
     ]
    },
    {
     "name": "stderr",
     "output_type": "stream",
     "text": [
      "2023-02-16 21:45:43.854940: E tensorflow/compiler/xla/stream_executor/cuda/cuda_driver.cc:267] failed call to cuInit: CUDA_ERROR_NO_DEVICE: no CUDA-capable device is detected\n",
      "2023-02-16 21:45:43.856735: I tensorflow/compiler/xla/stream_executor/cuda/cuda_diagnostics.cc:156] kernel driver does not appear to be running on this host (ubuntu-ROG-Strix): /proc/driver/nvidia/version does not exist\n",
      "2023-02-16 21:45:43.861193: I tensorflow/core/platform/cpu_feature_guard.cc:193] This TensorFlow binary is optimized with oneAPI Deep Neural Network Library (oneDNN) to use the following CPU instructions in performance-critical operations:  AVX2 FMA\n",
      "To enable them in other operations, rebuild TensorFlow with the appropriate compiler flags.\n"
     ]
    }
   ],
   "source": [
    "# create CNN model\n",
    "\n",
    "# Sequential \n",
    "model = Sequential()\n",
    "# Conv2D layer\n",
    "model.add(Conv2D(filters = 16, kernel_size = 3,  padding='same', activation = 'relu', input_shape = (35,35,3)))\n",
    "# MaxPooling2D layer\n",
    "model.add(MaxPooling2D(pool_size = 2))\n",
    "# Conv2D layer\n",
    "model.add(Conv2D(filters = 32, kernel_size = 3,  padding='same', activation = 'relu'))\n",
    "# MaxPooling2D layer\n",
    "model.add(MaxPooling2D(pool_size = 2))\n",
    "# Conv2D layer\n",
    "model.add(Conv2D(filters = 64, kernel_size = 3,  padding='same', activation = 'relu'))\n",
    "# MaxPooling2D layer\n",
    "model.add(MaxPooling2D(pool_size = 2))\n",
    "# Dropout layer\n",
    "model.add(Dropout(0.3))\n",
    "# Flatten layer\n",
    "model.add(Flatten())\n",
    "# Dense layer\n",
    "model.add(Dense(units = 500, activation = 'relu'))\n",
    "# Dropout layer\n",
    "model.add(Dropout(0.3))\n",
    "# Dense layer\n",
    "model.add(Dense(units = 3, activation = 'softmax'))\n",
    "# model summary\n",
    "model.summary()"
   ]
  },
  {
   "cell_type": "code",
   "execution_count": 32,
   "id": "02ee2d58",
   "metadata": {
    "execution": {
     "iopub.execute_input": "2022-10-10T03:20:30.157299Z",
     "iopub.status.busy": "2022-10-10T03:20:30.156888Z",
     "iopub.status.idle": "2022-10-10T03:20:30.483527Z",
     "shell.execute_reply": "2022-10-10T03:20:30.482292Z"
    },
    "papermill": {
     "duration": 0.340588,
     "end_time": "2022-10-10T03:20:30.486496",
     "exception": false,
     "start_time": "2022-10-10T03:20:30.145908",
     "status": "completed"
    },
    "tags": []
   },
   "outputs": [
    {
     "name": "stdout",
     "output_type": "stream",
     "text": [
      "Found 3254 images belonging to 3 classes.\n",
      "Found 572 images belonging to 3 classes.\n",
      "Found 243 images belonging to 3 classes.\n"
     ]
    }
   ],
   "source": [
    "batch_size = 8\n",
    "epochs = 50\n",
    "\n",
    "# Image Data Generator\n",
    "datagen = ImageDataGenerator(\n",
    "    rescale=1.0 / 255, horizontal_flip=True, zoom_range=0.1, shear_range=0.2, width_shift_range=0.1,\n",
    "    height_shift_range=0.1, rotation_range=4, vertical_flip=False\n",
    "\n",
    ")\n",
    "\n",
    "# Validation Image Data Generator\n",
    "val_datagen = ImageDataGenerator(\n",
    "    rescale=1.0 / 255\n",
    ")\n",
    " \n",
    "# Training Data\n",
    "train_generator = datagen.flow_from_directory(\n",
    "    directory='train', \n",
    "    target_size = (35,35),\n",
    "    class_mode=\"categorical\", batch_size=batch_size, shuffle=True\n",
    "\n",
    ")\n",
    "\n",
    "# Validation data\n",
    "val_generator = val_datagen.flow_from_directory(\n",
    "    directory='val', \n",
    "    target_size = (35,35),\n",
    "    class_mode=\"categorical\", batch_size=batch_size, shuffle=True\n",
    ")\n",
    "\n",
    "# Test data\n",
    "test_generator = val_datagen.flow_from_directory(\n",
    "    directory='test', \n",
    "    target_size = (35,35),\n",
    "    class_mode=\"categorical\", batch_size=batch_size, shuffle=False\n",
    ")\n"
   ]
  },
  {
   "cell_type": "code",
   "execution_count": 33,
   "id": "1f601772",
   "metadata": {
    "execution": {
     "iopub.execute_input": "2022-10-10T03:20:30.507861Z",
     "iopub.status.busy": "2022-10-10T03:20:30.507452Z",
     "iopub.status.idle": "2022-10-10T03:20:30.514086Z",
     "shell.execute_reply": "2022-10-10T03:20:30.512891Z"
    },
    "papermill": {
     "duration": 0.020445,
     "end_time": "2022-10-10T03:20:30.516651",
     "exception": false,
     "start_time": "2022-10-10T03:20:30.496206",
     "status": "completed"
    },
    "tags": []
   },
   "outputs": [
    {
     "name": "stdout",
     "output_type": "stream",
     "text": [
      "steps_per_epoch: 50\n",
      "val_steps: 9\n"
     ]
    }
   ],
   "source": [
    "data_size = len(train_generator)\n",
    "\n",
    "steps_per_epoch = int(data_size / batch_size)\n",
    "print(f\"steps_per_epoch: {steps_per_epoch}\")\n",
    "\n",
    "val_steps = int(len(val_generator) // batch_size)\n",
    "print(f\"val_steps: {val_steps}\")"
   ]
  },
  {
   "cell_type": "code",
   "execution_count": 34,
   "id": "38b08f0a",
   "metadata": {
    "execution": {
     "iopub.execute_input": "2022-10-10T03:20:30.538206Z",
     "iopub.status.busy": "2022-10-10T03:20:30.537593Z",
     "iopub.status.idle": "2022-10-10T03:20:30.551193Z",
     "shell.execute_reply": "2022-10-10T03:20:30.550056Z"
    },
    "papermill": {
     "duration": 0.027068,
     "end_time": "2022-10-10T03:20:30.553670",
     "exception": false,
     "start_time": "2022-10-10T03:20:30.526602",
     "status": "completed"
    },
    "tags": []
   },
   "outputs": [],
   "source": [
    "# compile model\n",
    "model.compile(\n",
    "    optimizer=\"adam\",\n",
    "    loss=\"categorical_crossentropy\",\n",
    "    metrics=['accuracy', 'Recall', 'Precision', 'AUC']\n",
    ")"
   ]
  },
  {
   "cell_type": "code",
   "execution_count": 35,
   "id": "fd6edab9",
   "metadata": {
    "execution": {
     "iopub.execute_input": "2022-10-10T03:20:30.575054Z",
     "iopub.status.busy": "2022-10-10T03:20:30.574635Z",
     "iopub.status.idle": "2022-10-10T03:20:30.579803Z",
     "shell.execute_reply": "2022-10-10T03:20:30.578693Z"
    },
    "papermill": {
     "duration": 0.018767,
     "end_time": "2022-10-10T03:20:30.582193",
     "exception": false,
     "start_time": "2022-10-10T03:20:30.563426",
     "status": "completed"
    },
    "tags": []
   },
   "outputs": [],
   "source": [
    "# This callback will stop the training when there is no improvement after 8 epochs\n",
    "early_stopping = EarlyStopping(monitor='val_loss', patience=8, restore_best_weights=True)"
   ]
  },
  {
   "cell_type": "code",
   "execution_count": 36,
   "id": "f37e61de",
   "metadata": {
    "execution": {
     "iopub.execute_input": "2022-10-10T03:20:30.603607Z",
     "iopub.status.busy": "2022-10-10T03:20:30.602923Z",
     "iopub.status.idle": "2022-10-10T03:20:30.607990Z",
     "shell.execute_reply": "2022-10-10T03:20:30.606879Z"
    },
    "papermill": {
     "duration": 0.018423,
     "end_time": "2022-10-10T03:20:30.610398",
     "exception": false,
     "start_time": "2022-10-10T03:20:30.591975",
     "status": "completed"
    },
    "tags": []
   },
   "outputs": [],
   "source": [
    "# Reduce learning rate when a metric has stopped improving\n",
    "lrr = ReduceLROnPlateau(monitor='val_loss',patience=8,verbose=1,factor=0.5, min_lr=0.00001)"
   ]
  },
  {
   "cell_type": "code",
   "execution_count": 37,
   "id": "23872e57",
   "metadata": {
    "execution": {
     "iopub.execute_input": "2022-10-10T03:20:30.631246Z",
     "iopub.status.busy": "2022-10-10T03:20:30.630869Z",
     "iopub.status.idle": "2022-10-10T03:20:46.163037Z",
     "shell.execute_reply": "2022-10-10T03:20:46.161618Z"
    },
    "papermill": {
     "duration": 15.546159,
     "end_time": "2022-10-10T03:20:46.166292",
     "exception": false,
     "start_time": "2022-10-10T03:20:30.620133",
     "status": "completed"
    },
    "tags": []
   },
   "outputs": [
    {
     "name": "stdout",
     "output_type": "stream",
     "text": [
      "Epoch 1/50\n"
     ]
    },
    {
     "name": "stderr",
     "output_type": "stream",
     "text": [
      "/tmp/ipykernel_34616/742539894.py:2: UserWarning: `Model.fit_generator` is deprecated and will be removed in a future version. Please use `Model.fit`, which supports generators.\n",
      "  model_history = model.fit_generator(\n"
     ]
    },
    {
     "name": "stdout",
     "output_type": "stream",
     "text": [
      "50/50 [==============================] - 2s 23ms/step - loss: 0.5807 - accuracy: 0.7675 - recall: 0.7500 - precision: 0.8065 - auc: 0.9119 - val_loss: 0.3923 - val_accuracy: 0.8472 - val_recall: 0.8333 - val_precision: 0.9091 - val_auc: 0.9789 - lr: 0.0010\n",
      "Epoch 2/50\n",
      "50/50 [==============================] - 1s 17ms/step - loss: 0.3788 - accuracy: 0.8750 - recall: 0.8650 - precision: 0.8872 - auc: 0.9600 - val_loss: 0.4965 - val_accuracy: 0.7778 - val_recall: 0.7222 - val_precision: 0.8254 - val_auc: 0.9362 - lr: 0.0010\n",
      "Epoch 3/50\n",
      "50/50 [==============================] - 1s 18ms/step - loss: 0.2961 - accuracy: 0.9045 - recall: 0.8844 - precision: 0.9191 - auc: 0.9750 - val_loss: 0.3470 - val_accuracy: 0.8750 - val_recall: 0.8472 - val_precision: 0.8971 - val_auc: 0.9675 - lr: 0.0010\n",
      "Epoch 4/50\n",
      "50/50 [==============================] - 1s 16ms/step - loss: 0.2905 - accuracy: 0.9100 - recall: 0.8975 - precision: 0.9182 - auc: 0.9730 - val_loss: 0.4768 - val_accuracy: 0.8611 - val_recall: 0.8611 - val_precision: 0.8611 - val_auc: 0.9557 - lr: 0.0010\n",
      "Epoch 5/50\n",
      "50/50 [==============================] - 1s 15ms/step - loss: 0.2583 - accuracy: 0.9121 - recall: 0.9070 - precision: 0.9186 - auc: 0.9817 - val_loss: 0.3490 - val_accuracy: 0.8750 - val_recall: 0.8333 - val_precision: 0.8824 - val_auc: 0.9696 - lr: 0.0010\n",
      "Epoch 6/50\n",
      "50/50 [==============================] - 1s 16ms/step - loss: 0.2769 - accuracy: 0.9200 - recall: 0.9175 - precision: 0.9268 - auc: 0.9776 - val_loss: 0.3459 - val_accuracy: 0.9167 - val_recall: 0.9167 - val_precision: 0.9167 - val_auc: 0.9654 - lr: 0.0010\n",
      "Epoch 7/50\n",
      "50/50 [==============================] - 1s 15ms/step - loss: 0.3253 - accuracy: 0.9020 - recall: 0.8945 - precision: 0.9082 - auc: 0.9687 - val_loss: 0.2136 - val_accuracy: 0.9306 - val_recall: 0.9167 - val_precision: 0.9296 - val_auc: 0.9871 - lr: 0.0010\n",
      "Epoch 8/50\n",
      "50/50 [==============================] - 1s 18ms/step - loss: 0.2474 - accuracy: 0.9275 - recall: 0.9200 - precision: 0.9412 - auc: 0.9819 - val_loss: 0.1965 - val_accuracy: 0.9306 - val_recall: 0.9306 - val_precision: 0.9437 - val_auc: 0.9918 - lr: 0.0010\n",
      "Epoch 9/50\n",
      "50/50 [==============================] - 1s 18ms/step - loss: 0.2173 - accuracy: 0.9475 - recall: 0.9450 - precision: 0.9521 - auc: 0.9831 - val_loss: 0.2567 - val_accuracy: 0.9028 - val_recall: 0.9028 - val_precision: 0.9028 - val_auc: 0.9830 - lr: 0.0010\n",
      "Epoch 10/50\n",
      "50/50 [==============================] - 1s 15ms/step - loss: 0.2338 - accuracy: 0.9225 - recall: 0.9075 - precision: 0.9356 - auc: 0.9825 - val_loss: 0.2163 - val_accuracy: 0.9583 - val_recall: 0.9583 - val_precision: 0.9583 - val_auc: 0.9809 - lr: 0.0010\n",
      "Epoch 11/50\n",
      "50/50 [==============================] - 1s 16ms/step - loss: 0.2653 - accuracy: 0.9246 - recall: 0.9146 - precision: 0.9286 - auc: 0.9781 - val_loss: 0.1934 - val_accuracy: 0.9306 - val_recall: 0.9306 - val_precision: 0.9306 - val_auc: 0.9916 - lr: 0.0010\n",
      "Epoch 12/50\n",
      "50/50 [==============================] - 1s 16ms/step - loss: 0.2349 - accuracy: 0.9300 - recall: 0.9275 - precision: 0.9322 - auc: 0.9832 - val_loss: 0.1772 - val_accuracy: 0.9444 - val_recall: 0.9444 - val_precision: 0.9444 - val_auc: 0.9911 - lr: 0.0010\n",
      "Epoch 13/50\n",
      "50/50 [==============================] - 1s 15ms/step - loss: 0.2183 - accuracy: 0.9250 - recall: 0.9225 - precision: 0.9295 - auc: 0.9864 - val_loss: 0.2658 - val_accuracy: 0.9028 - val_recall: 0.9028 - val_precision: 0.9028 - val_auc: 0.9850 - lr: 0.0010\n",
      "Epoch 14/50\n",
      "50/50 [==============================] - 1s 14ms/step - loss: 0.1858 - accuracy: 0.9472 - recall: 0.9422 - precision: 0.9470 - auc: 0.9888 - val_loss: 0.2257 - val_accuracy: 0.9306 - val_recall: 0.9306 - val_precision: 0.9306 - val_auc: 0.9808 - lr: 0.0010\n",
      "Epoch 15/50\n",
      "50/50 [==============================] - 1s 15ms/step - loss: 0.2301 - accuracy: 0.9350 - recall: 0.9250 - precision: 0.9391 - auc: 0.9828 - val_loss: 0.1477 - val_accuracy: 0.9028 - val_recall: 0.9028 - val_precision: 0.9155 - val_auc: 0.9942 - lr: 0.0010\n",
      "Epoch 16/50\n",
      "50/50 [==============================] - 1s 15ms/step - loss: 0.1761 - accuracy: 0.9400 - recall: 0.9375 - precision: 0.9518 - auc: 0.9887 - val_loss: 0.0779 - val_accuracy: 0.9861 - val_recall: 0.9722 - val_precision: 0.9859 - val_auc: 0.9990 - lr: 0.0010\n",
      "Epoch 17/50\n",
      "50/50 [==============================] - 1s 15ms/step - loss: 0.2548 - accuracy: 0.9250 - recall: 0.9175 - precision: 0.9291 - auc: 0.9799 - val_loss: 0.2243 - val_accuracy: 0.9167 - val_recall: 0.9167 - val_precision: 0.9167 - val_auc: 0.9876 - lr: 0.0010\n",
      "Epoch 18/50\n",
      "50/50 [==============================] - 1s 16ms/step - loss: 0.2065 - accuracy: 0.9350 - recall: 0.9325 - precision: 0.9395 - auc: 0.9848 - val_loss: 0.2163 - val_accuracy: 0.9306 - val_recall: 0.9306 - val_precision: 0.9306 - val_auc: 0.9855 - lr: 0.0010\n",
      "Epoch 19/50\n",
      "50/50 [==============================] - 1s 16ms/step - loss: 0.1851 - accuracy: 0.9375 - recall: 0.9300 - precision: 0.9418 - auc: 0.9894 - val_loss: 0.2495 - val_accuracy: 0.8889 - val_recall: 0.8889 - val_precision: 0.9014 - val_auc: 0.9836 - lr: 0.0010\n",
      "Epoch 20/50\n",
      "50/50 [==============================] - 1s 17ms/step - loss: 0.2479 - accuracy: 0.9100 - recall: 0.9100 - precision: 0.9169 - auc: 0.9826 - val_loss: 0.1831 - val_accuracy: 0.9444 - val_recall: 0.9444 - val_precision: 0.9444 - val_auc: 0.9908 - lr: 0.0010\n",
      "Epoch 21/50\n",
      "50/50 [==============================] - 1s 15ms/step - loss: 0.2434 - accuracy: 0.9246 - recall: 0.9171 - precision: 0.9288 - auc: 0.9817 - val_loss: 0.1072 - val_accuracy: 0.9583 - val_recall: 0.9583 - val_precision: 0.9583 - val_auc: 0.9973 - lr: 0.0010\n",
      "Epoch 22/50\n",
      "50/50 [==============================] - 1s 15ms/step - loss: 0.2303 - accuracy: 0.9347 - recall: 0.9271 - precision: 0.9437 - auc: 0.9811 - val_loss: 0.0879 - val_accuracy: 0.9861 - val_recall: 0.9861 - val_precision: 0.9861 - val_auc: 0.9981 - lr: 0.0010\n",
      "Epoch 23/50\n",
      "50/50 [==============================] - 1s 18ms/step - loss: 0.2358 - accuracy: 0.9100 - recall: 0.9000 - precision: 0.9302 - auc: 0.9846 - val_loss: 0.2202 - val_accuracy: 0.9444 - val_recall: 0.9306 - val_precision: 0.9437 - val_auc: 0.9887 - lr: 0.0010\n",
      "Epoch 24/50\n",
      "50/50 [==============================] - ETA: 0s - loss: 0.2825 - accuracy: 0.9050 - recall: 0.8950 - precision: 0.9179 - auc: 0.9775\n",
      "Epoch 24: ReduceLROnPlateau reducing learning rate to 0.0005000000237487257.\n",
      "50/50 [==============================] - 1s 17ms/step - loss: 0.2825 - accuracy: 0.9050 - recall: 0.8950 - precision: 0.9179 - auc: 0.9775 - val_loss: 0.2549 - val_accuracy: 0.9306 - val_recall: 0.9167 - val_precision: 0.9296 - val_auc: 0.9828 - lr: 0.0010\n"
     ]
    }
   ],
   "source": [
    "# training\n",
    "model_history = model.fit_generator(\n",
    "    generator=train_generator,\n",
    "    steps_per_epoch=steps_per_epoch,\n",
    "    epochs=epochs,\n",
    "    shuffle=True,\n",
    "    validation_data=val_generator,\n",
    "    validation_steps=val_steps,\n",
    "    callbacks=[early_stopping, lrr]\n",
    ")"
   ]
  },
  {
   "cell_type": "code",
   "execution_count": 38,
   "id": "8ed5b9cf",
   "metadata": {
    "execution": {
     "iopub.execute_input": "2022-10-10T03:20:46.210277Z",
     "iopub.status.busy": "2022-10-10T03:20:46.209873Z",
     "iopub.status.idle": "2022-10-10T03:20:46.526693Z",
     "shell.execute_reply": "2022-10-10T03:20:46.525377Z"
    },
    "papermill": {
     "duration": 0.341312,
     "end_time": "2022-10-10T03:20:46.529235",
     "exception": false,
     "start_time": "2022-10-10T03:20:46.187923",
     "status": "completed"
    },
    "tags": []
   },
   "outputs": [
    {
     "name": "stdout",
     "output_type": "stream",
     "text": [
      "31/31 [==============================] - 0s 6ms/step - loss: 0.1955 - accuracy: 0.9259 - recall: 0.9259 - precision: 0.9298 - auc: 0.9904     \n",
      "0.1954946368932724 || 92.59259104728699 || 92.59259104728699 || 92.97520518302917 || 99.0389347076416\n"
     ]
    }
   ],
   "source": [
    "model_loss, model_acc, recall, precision, auc = model.evaluate(test_generator)\n",
    "print(f'{model_loss} || {model_acc*100} || {recall*100} || {precision*100} || {auc*100}')"
   ]
  },
  {
   "cell_type": "code",
   "execution_count": 39,
   "id": "7a93e4c3",
   "metadata": {
    "execution": {
     "iopub.execute_input": "2022-10-10T03:20:46.574828Z",
     "iopub.status.busy": "2022-10-10T03:20:46.574420Z",
     "iopub.status.idle": "2022-10-10T03:20:46.983242Z",
     "shell.execute_reply": "2022-10-10T03:20:46.982473Z"
    },
    "papermill": {
     "duration": 0.434037,
     "end_time": "2022-10-10T03:20:46.985516",
     "exception": false,
     "start_time": "2022-10-10T03:20:46.551479",
     "status": "completed"
    },
    "tags": []
   },
   "outputs": [
    {
     "name": "stdout",
     "output_type": "stream",
     "text": [
      "31/31 [==============================] - 0s 4ms/step\n"
     ]
    },
    {
     "data": {
      "text/plain": [
       "array([[1.35898488e-02, 6.24419041e-02, 9.23968256e-01],\n",
       "       [2.26504624e-01, 1.73175558e-01, 6.00319803e-01],\n",
       "       [1.61648408e-01, 7.79659212e-01, 5.86923584e-02],\n",
       "       [1.57827720e-01, 8.05239916e-01, 3.69323716e-02],\n",
       "       [1.10322246e-02, 9.88780379e-01, 1.87451515e-04],\n",
       "       [3.16898935e-02, 9.65492904e-01, 2.81718071e-03],\n",
       "       [3.00906692e-02, 9.63548541e-01, 6.36074832e-03],\n",
       "       [5.86752370e-02, 2.60788709e-01, 6.80535972e-01],\n",
       "       [4.29688313e-04, 9.99568045e-01, 2.26423663e-06],\n",
       "       [8.06971046e-04, 9.99186456e-01, 6.52441713e-06],\n",
       "       [2.35620863e-03, 9.97636914e-01, 6.87831243e-06],\n",
       "       [5.55975689e-03, 9.94346619e-01, 9.36992874e-05],\n",
       "       [1.74500130e-03, 9.98224258e-01, 3.08451345e-05],\n",
       "       [8.02633446e-03, 9.88962650e-01, 3.01105413e-03],\n",
       "       [5.05267060e-04, 9.99478638e-01, 1.59354640e-05],\n",
       "       [2.53618844e-02, 9.47300494e-01, 2.73376629e-02],\n",
       "       [2.05999915e-03, 9.97915745e-01, 2.41593971e-05],\n",
       "       [6.01558201e-03, 9.93785918e-01, 1.98408408e-04],\n",
       "       [2.53761970e-02, 9.71957684e-01, 2.66604172e-03],\n",
       "       [1.63801960e-04, 9.99835730e-01, 4.92750814e-07],\n",
       "       [6.39917329e-03, 9.93208349e-01, 3.92344315e-04],\n",
       "       [1.67236722e-03, 9.97664750e-01, 6.62775245e-04],\n",
       "       [9.26110253e-04, 9.99051869e-01, 2.20884704e-05],\n",
       "       [8.96153681e-04, 9.99101281e-01, 2.58408477e-06],\n",
       "       [1.05530843e-02, 9.82205510e-01, 7.24141393e-03],\n",
       "       [1.56114670e-03, 9.98413324e-01, 2.54732458e-05],\n",
       "       [2.94833269e-04, 9.99704599e-01, 5.46423223e-07],\n",
       "       [7.94579973e-04, 9.78740394e-01, 2.04649791e-02],\n",
       "       [1.98895507e-03, 9.97945368e-01, 6.57131459e-05],\n",
       "       [2.39883712e-03, 9.97572899e-01, 2.82130422e-05],\n",
       "       [7.65852863e-04, 9.99221146e-01, 1.30525177e-05],\n",
       "       [9.00074228e-05, 9.99909461e-01, 4.75350873e-07],\n",
       "       [3.90827663e-05, 9.99960840e-01, 1.76889170e-08],\n",
       "       [1.38370385e-02, 9.83924925e-01, 2.23790808e-03],\n",
       "       [1.69213749e-02, 1.32131413e-01, 8.50947082e-01],\n",
       "       [2.88908407e-02, 9.63899374e-01, 7.20981229e-03],\n",
       "       [5.10364247e-04, 9.99483526e-01, 6.03472517e-06],\n",
       "       [6.20827731e-03, 9.93674040e-01, 1.17660311e-04],\n",
       "       [3.43159860e-04, 9.99656558e-01, 2.64939672e-07],\n",
       "       [8.56486149e-03, 9.91284072e-01, 1.51157088e-04],\n",
       "       [9.21382289e-03, 9.88731384e-01, 2.05471762e-03],\n",
       "       [5.50608020e-05, 9.99944866e-01, 6.72732048e-09],\n",
       "       [5.71438286e-04, 9.99421954e-01, 6.56026214e-06],\n",
       "       [5.17970475e-04, 9.99477923e-01, 4.08734377e-06],\n",
       "       [1.30334427e-03, 9.98684764e-01, 1.17629324e-05],\n",
       "       [1.61859114e-03, 9.98356938e-01, 2.44291350e-05],\n",
       "       [1.62508525e-02, 9.83395636e-01, 3.53444368e-04],\n",
       "       [7.71944225e-03, 9.92266715e-01, 1.38003143e-05],\n",
       "       [2.45634723e-03, 9.97522652e-01, 2.08812307e-05],\n",
       "       [3.53820506e-03, 9.96410370e-01, 5.13345549e-05],\n",
       "       [5.58498083e-03, 9.94401693e-01, 1.33293433e-05],\n",
       "       [2.70496868e-03, 9.97279048e-01, 1.58943130e-05],\n",
       "       [1.42867537e-03, 9.98533070e-01, 3.82316539e-05],\n",
       "       [2.16058448e-01, 3.09306055e-01, 4.74635392e-01],\n",
       "       [8.36716150e-04, 9.98883843e-01, 2.79486878e-04],\n",
       "       [4.58989944e-03, 9.95329499e-01, 8.05065938e-05],\n",
       "       [2.51373164e-02, 8.63152325e-01, 1.11710332e-01],\n",
       "       [1.88559011e-01, 7.60486186e-01, 5.09548299e-02],\n",
       "       [6.22214982e-03, 9.93450344e-01, 3.27471585e-04],\n",
       "       [9.52260802e-04, 9.99042094e-01, 5.58874899e-06],\n",
       "       [1.85038906e-03, 9.98127282e-01, 2.23727275e-05],\n",
       "       [5.83349029e-04, 9.99416471e-01, 1.47281114e-07],\n",
       "       [1.76747271e-04, 9.99822855e-01, 3.68829717e-07],\n",
       "       [8.04507290e-04, 9.99185264e-01, 1.02391223e-05],\n",
       "       [1.35313475e-03, 9.98643458e-01, 3.46485695e-06],\n",
       "       [4.22657141e-03, 9.95419323e-01, 3.54119256e-04],\n",
       "       [6.50233240e-04, 9.98956442e-01, 3.93180177e-04],\n",
       "       [2.06504672e-04, 9.99790192e-01, 3.35621007e-06],\n",
       "       [3.92408547e-04, 9.99603689e-01, 3.97233362e-06],\n",
       "       [4.32802015e-04, 9.99564707e-01, 2.49272421e-06],\n",
       "       [2.29929108e-02, 2.86532849e-01, 6.90474153e-01],\n",
       "       [6.97700423e-04, 9.99292135e-01, 1.00922516e-05],\n",
       "       [1.24504007e-02, 9.87547874e-01, 1.74629076e-06],\n",
       "       [3.84621162e-05, 9.99961436e-01, 2.77202949e-09],\n",
       "       [1.28282374e-03, 9.98674631e-01, 4.25924372e-05],\n",
       "       [1.28688160e-04, 9.99871254e-01, 1.86395130e-08],\n",
       "       [3.29429610e-03, 9.96690094e-01, 1.56241204e-05],\n",
       "       [8.32393765e-03, 9.91633892e-01, 4.22056110e-05],\n",
       "       [2.98630521e-02, 9.60292459e-01, 9.84451268e-03],\n",
       "       [2.03728862e-03, 9.96730506e-01, 1.23215071e-03],\n",
       "       [5.82784461e-03, 9.93937016e-01, 2.35059983e-04],\n",
       "       [1.18562498e-03, 9.98515964e-01, 2.98243103e-04],\n",
       "       [1.99622568e-03, 9.97816980e-01, 1.86732563e-04],\n",
       "       [1.10684581e-04, 9.99889076e-01, 8.57253042e-08],\n",
       "       [1.61504222e-03, 9.98380244e-01, 4.79261780e-06],\n",
       "       [5.82433597e-04, 9.99416709e-01, 8.43412920e-07],\n",
       "       [9.95139453e-06, 9.99990046e-01, 4.57491964e-08],\n",
       "       [1.41542723e-05, 9.99985635e-01, 7.02237273e-08],\n",
       "       [2.97582312e-03, 9.96889055e-01, 1.35069058e-04],\n",
       "       [8.18596501e-03, 9.87767696e-01, 4.04639728e-03],\n",
       "       [1.29016244e-03, 9.98633206e-01, 7.66656231e-05],\n",
       "       [2.38843422e-04, 9.99758959e-01, 2.09938003e-06],\n",
       "       [1.40523561e-03, 9.98591781e-01, 2.88270030e-06],\n",
       "       [2.93404853e-04, 9.99706030e-01, 6.31631451e-07],\n",
       "       [2.98951752e-03, 9.96978283e-01, 3.21592088e-05],\n",
       "       [1.39404228e-02, 1.50048062e-01, 8.36011529e-01],\n",
       "       [2.20974689e-04, 9.99778748e-01, 2.12784556e-07],\n",
       "       [4.01167810e-04, 9.99598563e-01, 1.95804915e-07],\n",
       "       [5.76138031e-03, 9.94056642e-01, 1.81899304e-04],\n",
       "       [3.55607190e-04, 9.99644279e-01, 1.41458656e-07],\n",
       "       [2.90522957e-03, 9.97091651e-01, 3.11611461e-06],\n",
       "       [2.03792993e-02, 9.72062409e-01, 7.55836023e-03],\n",
       "       [3.46549577e-03, 9.96407986e-01, 1.26665094e-04],\n",
       "       [7.81713128e-02, 8.08925748e-01, 1.12902969e-01],\n",
       "       [1.86933822e-03, 9.98126328e-01, 4.30104410e-06],\n",
       "       [3.12729948e-03, 9.96729791e-01, 1.42808160e-04],\n",
       "       [9.52799688e-04, 9.99028504e-01, 1.86445868e-05],\n",
       "       [1.61928544e-03, 9.98363376e-01, 1.72809687e-05],\n",
       "       [6.35719101e-04, 9.99361932e-01, 2.36102778e-06],\n",
       "       [1.72132903e-04, 9.99827623e-01, 3.92989136e-07],\n",
       "       [1.04310654e-01, 6.14811778e-01, 2.80877501e-01],\n",
       "       [5.95744839e-03, 9.93998170e-01, 4.44921752e-05],\n",
       "       [2.56744068e-04, 9.99734402e-01, 8.95429366e-06],\n",
       "       [2.62335408e-03, 9.95326102e-01, 2.05052085e-03],\n",
       "       [1.13956386e-03, 9.98454273e-01, 4.06080915e-04],\n",
       "       [3.78550752e-03, 9.91291940e-01, 4.92253341e-03],\n",
       "       [2.65729912e-02, 2.59846747e-01, 7.13580251e-01],\n",
       "       [1.74999190e-03, 9.98244345e-01, 5.53955624e-06],\n",
       "       [2.44081412e-02, 2.83330768e-01, 6.92261100e-01],\n",
       "       [3.64706153e-04, 9.99627650e-01, 7.58170427e-06],\n",
       "       [3.00326827e-03, 9.96931314e-01, 6.54146497e-05],\n",
       "       [4.14693728e-03, 9.95648026e-01, 2.04986907e-04],\n",
       "       [8.68969830e-04, 9.99129534e-01, 1.44329374e-06],\n",
       "       [2.18702052e-02, 8.93021166e-01, 8.51086304e-02],\n",
       "       [3.81385069e-03, 9.95707870e-01, 4.78204835e-04],\n",
       "       [1.03253615e-03, 9.98965263e-01, 2.18041987e-06],\n",
       "       [7.21015676e-04, 9.99278545e-01, 3.46222834e-07],\n",
       "       [6.84916414e-03, 9.89837289e-01, 3.31349741e-03],\n",
       "       [4.89336485e-03, 9.91610229e-01, 3.49637959e-03],\n",
       "       [4.69399197e-03, 9.95092332e-01, 2.13700085e-04],\n",
       "       [1.97245463e-04, 9.99779224e-01, 2.36376582e-05],\n",
       "       [3.16154119e-03, 9.96727169e-01, 1.11186790e-04],\n",
       "       [1.31848373e-03, 9.98666167e-01, 1.53488163e-05],\n",
       "       [3.09708808e-03, 9.96853292e-01, 4.96946923e-05],\n",
       "       [1.40737207e-03, 9.98549879e-01, 4.27683954e-05],\n",
       "       [7.16669369e-04, 9.99274254e-01, 9.21227456e-06],\n",
       "       [7.48996735e-02, 6.24667466e-01, 3.00432831e-01],\n",
       "       [1.56900482e-04, 9.99842882e-01, 3.67499013e-07],\n",
       "       [3.54266283e-03, 9.95604694e-01, 8.52619007e-04],\n",
       "       [5.06144679e-05, 9.99948919e-01, 4.10762254e-07],\n",
       "       [7.17630144e-03, 9.88992214e-01, 3.83137399e-03],\n",
       "       [2.99056497e-04, 9.99699235e-01, 1.79532378e-06],\n",
       "       [3.67562007e-03, 9.95969653e-01, 3.54730582e-04],\n",
       "       [3.63857998e-03, 9.96359289e-01, 2.10097869e-06],\n",
       "       [2.10033916e-03, 9.97499466e-01, 4.00116987e-04],\n",
       "       [7.37229735e-03, 9.92603779e-01, 2.38547709e-05],\n",
       "       [1.17250594e-04, 9.99881685e-01, 9.37088998e-07],\n",
       "       [9.46300384e-03, 9.89971399e-01, 5.65502211e-04],\n",
       "       [3.80803528e-03, 9.96170282e-01, 2.16142780e-05],\n",
       "       [1.61112398e-01, 7.05561221e-01, 1.33326367e-01],\n",
       "       [1.90751185e-03, 9.98066068e-01, 2.64000009e-05],\n",
       "       [1.12827111e-03, 9.98868108e-01, 3.68037263e-06],\n",
       "       [9.66459629e-05, 9.99902904e-01, 3.88034863e-07],\n",
       "       [8.91968235e-03, 9.89503443e-01, 1.57687138e-03],\n",
       "       [2.87400233e-03, 9.97124135e-01, 1.85108706e-06],\n",
       "       [1.09704246e-03, 9.98901010e-01, 1.92912967e-06],\n",
       "       [6.57238415e-04, 9.99334037e-01, 8.73838053e-06],\n",
       "       [2.79069715e-03, 9.97205079e-01, 4.16619014e-06],\n",
       "       [1.31529130e-04, 9.99868393e-01, 7.56729648e-08],\n",
       "       [1.16442726e-03, 9.98824418e-01, 1.11557210e-05],\n",
       "       [8.71425436e-04, 9.99127150e-01, 1.39356405e-06],\n",
       "       [2.18086250e-04, 9.99781847e-01, 4.13259009e-08],\n",
       "       [5.20818576e-04, 9.99478757e-01, 3.31835196e-07],\n",
       "       [1.47274957e-04, 9.99852657e-01, 1.96240126e-08],\n",
       "       [4.04926686e-04, 9.99594986e-01, 8.93135876e-08],\n",
       "       [7.30305270e-04, 9.99267220e-01, 2.54212591e-06],\n",
       "       [2.91345199e-03, 9.97066438e-01, 2.01012172e-05],\n",
       "       [4.47722792e-04, 9.99552190e-01, 1.71862837e-07],\n",
       "       [6.23194035e-03, 9.93404031e-01, 3.64091480e-04],\n",
       "       [1.01249991e-03, 9.98985291e-01, 2.29267630e-06],\n",
       "       [6.93864189e-04, 9.99287844e-01, 1.82665935e-05],\n",
       "       [6.84213068e-04, 9.99286652e-01, 2.90443677e-05],\n",
       "       [2.60862382e-03, 1.49264177e-02, 9.82465029e-01],\n",
       "       [1.44949486e-03, 9.98535573e-01, 1.48976924e-05],\n",
       "       [4.47593071e-03, 9.95313644e-01, 2.10311395e-04],\n",
       "       [1.41670567e-03, 9.98551905e-01, 3.14124081e-05],\n",
       "       [1.70090992e-03, 9.98266518e-01, 3.25802139e-05],\n",
       "       [2.77786748e-03, 9.97188210e-01, 3.39685721e-05],\n",
       "       [2.29499992e-02, 9.61433649e-01, 1.56163117e-02],\n",
       "       [3.41072446e-03, 9.96368766e-01, 2.20469388e-04],\n",
       "       [1.79328918e-02, 9.81293857e-01, 7.73217704e-04],\n",
       "       [1.27947156e-03, 9.98577833e-01, 1.42733334e-04],\n",
       "       [1.27470330e-03, 9.98703480e-01, 2.18009282e-05],\n",
       "       [1.16604343e-01, 6.50807381e-01, 2.32588291e-01],\n",
       "       [9.24157677e-04, 9.99075055e-01, 6.96240534e-07],\n",
       "       [8.99323932e-05, 9.99909937e-01, 7.72258204e-08],\n",
       "       [3.95888742e-03, 9.95723784e-01, 3.17362719e-04],\n",
       "       [1.37776034e-02, 9.86044884e-01, 1.77395152e-04],\n",
       "       [6.90302229e-04, 9.99308109e-01, 1.64035112e-06],\n",
       "       [3.95779614e-04, 9.99604166e-01, 1.07471855e-07],\n",
       "       [9.83861834e-03, 9.90111828e-01, 4.93970001e-05],\n",
       "       [9.98358354e-02, 7.86811113e-01, 1.13353111e-01],\n",
       "       [1.15644617e-03, 9.98838484e-01, 5.12545012e-06],\n",
       "       [2.97149434e-03, 9.96945262e-01, 8.32507139e-05],\n",
       "       [9.69271827e-03, 9.90194440e-01, 1.12857175e-04],\n",
       "       [6.22504798e-04, 9.99373972e-01, 3.59750720e-06],\n",
       "       [2.09739292e-03, 9.97902393e-01, 1.21838880e-07],\n",
       "       [3.16098635e-03, 9.96672511e-01, 1.66398022e-04],\n",
       "       [2.11842209e-02, 9.76639748e-01, 2.17591948e-03],\n",
       "       [7.71018025e-03, 9.91680324e-01, 6.09500159e-04],\n",
       "       [4.08736542e-02, 9.57134545e-01, 1.99176185e-03],\n",
       "       [2.14452092e-02, 1.56048805e-01, 8.22505891e-01],\n",
       "       [1.76800191e-02, 9.34002772e-02, 8.88919711e-01],\n",
       "       [3.55807692e-02, 1.08124785e-01, 8.56294453e-01],\n",
       "       [1.70956086e-02, 1.45372406e-01, 8.37531924e-01],\n",
       "       [1.73412696e-01, 5.96856236e-01, 2.29731023e-01],\n",
       "       [2.01657526e-02, 6.76702857e-02, 9.12163854e-01],\n",
       "       [2.00808570e-02, 7.79211000e-02, 9.01997983e-01],\n",
       "       [1.23477113e-02, 3.89829576e-02, 9.48669195e-01],\n",
       "       [1.39775341e-02, 3.15525569e-02, 9.54469919e-01],\n",
       "       [1.34005835e-02, 4.62137237e-02, 9.40385699e-01],\n",
       "       [7.70024909e-03, 3.15934531e-02, 9.60706294e-01],\n",
       "       [3.20594348e-02, 7.67692253e-02, 8.91171336e-01],\n",
       "       [1.38173234e-02, 6.38595894e-02, 9.22323167e-01],\n",
       "       [2.62848451e-03, 1.06057664e-02, 9.86765742e-01],\n",
       "       [8.77404120e-03, 5.21843284e-02, 9.39041615e-01],\n",
       "       [1.11159415e-03, 4.38936241e-03, 9.94499028e-01],\n",
       "       [1.81083940e-02, 1.10012330e-01, 8.71879160e-01],\n",
       "       [2.77550169e-03, 1.39910337e-02, 9.83233511e-01],\n",
       "       [1.33181112e-02, 4.49897982e-02, 9.41692054e-01],\n",
       "       [2.59494428e-02, 8.33420977e-02, 8.90708447e-01],\n",
       "       [1.38320709e-02, 1.00813590e-01, 8.85354280e-01],\n",
       "       [5.22905588e-03, 2.02710871e-02, 9.74499822e-01],\n",
       "       [5.53022698e-03, 2.64854431e-02, 9.67984319e-01],\n",
       "       [6.96771732e-03, 2.54930481e-02, 9.67539251e-01],\n",
       "       [2.21756138e-02, 1.57666475e-01, 8.20157886e-01],\n",
       "       [1.32566281e-02, 1.06943183e-01, 8.79800141e-01],\n",
       "       [1.08859241e-02, 4.21687774e-02, 9.46945310e-01],\n",
       "       [1.31028164e-02, 4.95053343e-02, 9.37391818e-01],\n",
       "       [3.21352594e-02, 7.92137608e-02, 8.88651013e-01],\n",
       "       [1.22170784e-02, 4.27451320e-02, 9.45037782e-01],\n",
       "       [3.46300639e-02, 1.18802473e-01, 8.46567452e-01],\n",
       "       [1.62381530e-02, 4.13019806e-02, 9.42459762e-01],\n",
       "       [2.08549504e-03, 3.27702016e-02, 9.65144336e-01],\n",
       "       [2.07801640e-01, 7.00748622e-01, 9.14496407e-02],\n",
       "       [4.06172406e-03, 2.19244771e-02, 9.74013805e-01],\n",
       "       [3.62641923e-02, 2.21518517e-01, 7.42217243e-01],\n",
       "       [5.74313197e-03, 3.05948779e-02, 9.63662028e-01],\n",
       "       [1.71169639e-02, 4.50876653e-02, 9.37795401e-01],\n",
       "       [1.60466358e-02, 7.15862334e-01, 2.68091083e-01],\n",
       "       [1.66206853e-03, 1.10291401e-02, 9.87308800e-01],\n",
       "       [2.68416330e-02, 5.68574108e-02, 9.16300952e-01],\n",
       "       [1.31338527e-02, 6.74005970e-02, 9.19465542e-01]], dtype=float32)"
      ]
     },
     "execution_count": 39,
     "metadata": {},
     "output_type": "execute_result"
    }
   ],
   "source": [
    "predictions = model.predict(test_generator)\n",
    "predictions"
   ]
  },
  {
   "cell_type": "code",
   "execution_count": 41,
   "id": "3ea9d5d5",
   "metadata": {
    "execution": {
     "iopub.execute_input": "2022-10-10T03:20:47.030534Z",
     "iopub.status.busy": "2022-10-10T03:20:47.030100Z",
     "iopub.status.idle": "2022-10-10T03:20:47.037281Z",
     "shell.execute_reply": "2022-10-10T03:20:47.036161Z"
    },
    "papermill": {
     "duration": 0.032334,
     "end_time": "2022-10-10T03:20:47.039427",
     "exception": false,
     "start_time": "2022-10-10T03:20:47.007093",
     "status": "completed"
    },
    "tags": []
   },
   "outputs": [],
   "source": [
    "# plot loss and accuracy\n",
    "def plot_loss_and_accuracy(history):\n",
    "    history_df = pd.DataFrame(history)\n",
    "    fig, ax = plt.subplots(1,2, figsize=(12, 6))\n",
    "    \n",
    "    history_df.loc[0:, ['loss', 'val_loss']].plot(ax=ax[0])\n",
    "    ax[0].set(xlabel = 'epoch number', ylabel = 'loss')\n",
    "\n",
    "    history_df.loc[0:, ['accuracy', 'val_accuracy']].plot(ax=ax[1])\n",
    "    ax[1].set(xlabel = 'epoch number', ylabel = 'accuracy')"
   ]
  },
  {
   "cell_type": "code",
   "execution_count": 42,
   "id": "84b7b6ba",
   "metadata": {
    "execution": {
     "iopub.execute_input": "2022-10-10T03:20:47.085054Z",
     "iopub.status.busy": "2022-10-10T03:20:47.084634Z",
     "iopub.status.idle": "2022-10-10T03:20:47.506716Z",
     "shell.execute_reply": "2022-10-10T03:20:47.505404Z"
    },
    "papermill": {
     "duration": 0.448521,
     "end_time": "2022-10-10T03:20:47.509654",
     "exception": false,
     "start_time": "2022-10-10T03:20:47.061133",
     "status": "completed"
    },
    "tags": []
   },
   "outputs": [
    {
     "data": {
      "image/png": "[encoded data removed]",
      "text/plain": [
       "<Figure size 1200x600 with 2 Axes>"
      ]
     },
     "metadata": {},
     "output_type": "display_data"
    }
   ],
   "source": [
    "plot_loss_and_accuracy(model_history.history)"
   ]
  },
  {
   "cell_type": "code",
   "execution_count": 43,
   "id": "616cb624",
   "metadata": {
    "execution": {
     "iopub.execute_input": "2022-10-10T03:20:47.559944Z",
     "iopub.status.busy": "2022-10-10T03:20:47.559038Z",
     "iopub.status.idle": "2022-10-10T03:20:48.274672Z",
     "shell.execute_reply": "2022-10-10T03:20:48.273507Z"
    },
    "papermill": {
     "duration": 0.742043,
     "end_time": "2022-10-10T03:20:48.276779",
     "exception": false,
     "start_time": "2022-10-10T03:20:47.534736",
     "status": "completed"
    },
    "tags": []
   },
   "outputs": [
    {
     "name": "stdout",
     "output_type": "stream",
     "text": [
      "31/31 [==============================] - 0s 4ms/step\n",
      "with_mask || with_mask\n"
     ]
    },
    {
     "data": {
      "image/png": "[encoded data removed]",
      "text/plain": [
       "<Figure size 640x480 with 1 Axes>"
      ]
     },
     "metadata": {},
     "output_type": "display_data"
    }
   ],
   "source": [
    "# predict\n",
    "paths = test_generator.filenames\n",
    "y_pred = model.predict(test_generator).argmax(axis=1)\n",
    "classes = test_generator.class_indices\n",
    "\n",
    "a_img_rand = np.random.randint(0,len(paths))\n",
    "img = cv2.imread(os.path.join(output_data_path,'test', paths[a_img_rand]))      \n",
    "colored_img = cv2.cvtColor(img, cv2.COLOR_RGB2BGR)\n",
    "\n",
    "plt.imshow(colored_img)\n",
    "true_label = paths[a_img_rand].split('/')[0]\n",
    "predicted_label = list(classes)[y_pred[a_img_rand]]\n",
    "print(f'{predicted_label} || {true_label}')"
   ]
  },
  {
   "cell_type": "code",
   "execution_count": 44,
   "id": "ab11078c",
   "metadata": {
    "execution": {
     "iopub.execute_input": "2022-10-10T03:20:48.324600Z",
     "iopub.status.busy": "2022-10-10T03:20:48.323791Z",
     "iopub.status.idle": "2022-10-10T03:20:48.330897Z",
     "shell.execute_reply": "2022-10-10T03:20:48.330117Z"
    },
    "papermill": {
     "duration": 0.033413,
     "end_time": "2022-10-10T03:20:48.333119",
     "exception": false,
     "start_time": "2022-10-10T03:20:48.299706",
     "status": "completed"
    },
    "tags": []
   },
   "outputs": [],
   "source": [
    "# evaluation model\n",
    "def evaluation(y, y_hat, title = 'Confusion Matrix'):\n",
    "    cm = confusion_matrix(y, y_hat)\n",
    "    sns.heatmap(cm,  cmap= 'PuBu', annot=True, fmt='g', annot_kws={'size':20})\n",
    "    plt.xlabel('predicted', fontsize=18)\n",
    "    plt.ylabel('actual', fontsize=18)\n",
    "    plt.title(title, fontsize=18)\n",
    "    \n",
    "    plt.show()"
   ]
  },
  {
   "cell_type": "code",
   "execution_count": 45,
   "id": "9f728bd7",
   "metadata": {
    "execution": {
     "iopub.execute_input": "2022-10-10T03:20:48.380438Z",
     "iopub.status.busy": "2022-10-10T03:20:48.379998Z",
     "iopub.status.idle": "2022-10-10T03:20:48.920897Z",
     "shell.execute_reply": "2022-10-10T03:20:48.919765Z"
    },
    "papermill": {
     "duration": 0.567354,
     "end_time": "2022-10-10T03:20:48.923224",
     "exception": false,
     "start_time": "2022-10-10T03:20:48.355870",
     "status": "completed"
    },
    "tags": []
   },
   "outputs": [
    {
     "name": "stdout",
     "output_type": "stream",
     "text": [
      "31/31 [==============================] - 0s 4ms/step\n"
     ]
    },
    {
     "data": {
      "image/png": "[encoded data removed]",
      "text/plain": [
       "<Figure size 640x480 with 2 Axes>"
      ]
     },
     "metadata": {},
     "output_type": "display_data"
    }
   ],
   "source": [
    "# Confusion Matrix\n",
    "\n",
    "y_true = test_generator.labels\n",
    "y_pred = model.predict(test_generator).argmax(axis=1) # Predict prob and get Class Indices\n",
    "\n",
    "evaluation(y_true, y_pred)"
   ]
  },
  {
   "cell_type": "code",
   "execution_count": 46,
   "id": "7d6a0238",
   "metadata": {
    "execution": {
     "iopub.execute_input": "2022-10-10T03:20:48.971524Z",
     "iopub.status.busy": "2022-10-10T03:20:48.971092Z",
     "iopub.status.idle": "2022-10-10T03:20:48.979754Z",
     "shell.execute_reply": "2022-10-10T03:20:48.978663Z"
    },
    "papermill": {
     "duration": 0.0356,
     "end_time": "2022-10-10T03:20:48.981958",
     "exception": false,
     "start_time": "2022-10-10T03:20:48.946358",
     "status": "completed"
    },
    "tags": []
   },
   "outputs": [
    {
     "data": {
      "text/plain": [
       "{'mask_weared_incorrect': 0, 'with_mask': 1, 'without_mask': 2}"
      ]
     },
     "metadata": {},
     "output_type": "display_data"
    },
    {
     "data": {
      "text/plain": [
       "array([  0, 194,  49])"
      ]
     },
     "execution_count": 46,
     "metadata": {},
     "output_type": "execute_result"
    }
   ],
   "source": [
    "display(classes)\n",
    "np.bincount(y_pred)"
   ]
  },
  {
   "cell_type": "code",
   "execution_count": 48,
   "id": "efb27829",
   "metadata": {},
   "outputs": [],
   "source": [
    "# Model Directory\n",
    "directory = \"Model\"\n",
    "  \n",
    "# Parent Directory path\n",
    "parent_dir = os.getcwd()\n",
    "  \n",
    "# Path\n",
    "path = os.path.join(parent_dir, directory)\n",
    "  \n",
    "# Create the directory\n",
    "# 'Model' in\n",
    "# '/home/abdalrahman/Desktop/ProgressSoft/(Problem #2) Face Mask Detection'\n",
    "os.mkdir(path)"
   ]
  },
  {
   "cell_type": "code",
   "execution_count": 49,
   "id": "2a105cf3",
   "metadata": {},
   "outputs": [
    {
     "name": "stderr",
     "output_type": "stream",
     "text": [
      "WARNING:absl:Found untraced functions such as _jit_compiled_convolution_op, _jit_compiled_convolution_op, _jit_compiled_convolution_op, _update_step_xla while saving (showing 4 of 4). These functions will not be directly callable after loading.\n"
     ]
    },
    {
     "name": "stdout",
     "output_type": "stream",
     "text": [
      "INFO:tensorflow:Assets written to: /home/abdalrahman/Desktop/ProgressSoft/(Problem #2) Face Mask Detection/Model/assets\n"
     ]
    },
    {
     "name": "stderr",
     "output_type": "stream",
     "text": [
      "INFO:tensorflow:Assets written to: /home/abdalrahman/Desktop/ProgressSoft/(Problem #2) Face Mask Detection/Model/assets\n"
     ]
    }
   ],
   "source": [
    "# save model\n",
    "model.save(path)"
   ]
  }
 ],
 "metadata": {
  "kernelspec": {
   "display_name": "Python 3 (ipykernel)",
   "language": "python",
   "name": "python3"
  },
  "language_info": {
   "codemirror_mode": {
    "name": "ipython",
    "version": 3
   },
   "file_extension": ".py",
   "mimetype": "text/x-python",
   "name": "python",
   "nbconvert_exporter": "python",
   "pygments_lexer": "ipython3",
   "version": "3.10.6"
  },
  "papermill": {
   "default_parameters": {},
   "duration": 130.201609,
   "end_time": "2022-10-10T03:20:51.843522",
   "environment_variables": {},
   "exception": null,
   "input_path": "__notebook__.ipynb",
   "output_path": "__notebook__.ipynb",
   "parameters": {},
   "start_time": "2022-10-10T03:18:41.641913",
   "version": "2.3.4"
  }
 },
 "nbformat": 4,
 "nbformat_minor": 5
}
